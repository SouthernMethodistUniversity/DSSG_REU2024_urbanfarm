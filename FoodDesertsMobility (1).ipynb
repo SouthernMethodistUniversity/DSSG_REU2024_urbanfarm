{
 "cells": [
  {
   "cell_type": "code",
   "execution_count": 78,
   "id": "9ca70bea-063a-47a1-aa5c-f8b9720e3fb0",
   "metadata": {},
   "outputs": [],
   "source": [
    "\"\"\"\n",
    "Goal: Filter mobility data down to Saturday and Sunday 8am-8pm (times folks would go out to get groceries)\n",
    "\"\"\"\n",
    "\n",
    "import geopandas as gpd\n",
    "import pandas as pd\n",
    "import contextily as cx\n",
    "import collections\n",
    "import matplotlib.pyplot as plt\n",
    "import datetime\n",
    "\n",
    "#Can get rid of anything outside of 8am-8pm\n",
    "#Then go down to weekends\n"
   ]
  },
  {
   "cell_type": "code",
   "execution_count": 117,
   "id": "57243722-5f58-4313-8b2f-e432cf14269e",
   "metadata": {},
   "outputs": [],
   "source": [
    "#What it looks like to save one df\n",
    "#G14Marchdf = pd.read_csv(\"/work/group/oit_research_data/mobility/data/data_DFW_2021/data/DFW_2021_03/G14_DFW_mobility_output.tsv\", sep='\\t')"
   ]
  },
  {
   "cell_type": "code",
   "execution_count": 80,
   "id": "ab14a848-e59c-46d9-abb2-f8decfebd239",
   "metadata": {},
   "outputs": [],
   "source": [
    "#Parts of file path to use in for loops (iterating over different files)\n",
    "start_file_name = \"/work/group/oit_research_data/mobility/data/data_DFW_2021/data/DFW_2021_\"\n",
    "#need to add month in between start and mid\n",
    "mid_file_name = \"/\"\n",
    "#need to add row letter and row num in between mid and end\n",
    "end_file_name = \"_DFW_mobility_output.tsv\""
   ]
  },
  {
   "cell_type": "code",
   "execution_count": 128,
   "id": "94b65de4-18de-421c-8fcd-49c5779dc6b1",
   "metadata": {},
   "outputs": [],
   "source": [
    "#Filter individual file by Saturdays and Sunday 8am-8pm\n",
    "def filter_weekends_by_time(df, start_hour, end_hour):\n",
    "    df['DateTime'] = pd.to_datetime(df['DateTime'], utc =True)\n",
    "    df = df[(df['DateTime'].dt.hour >= start_hour) & (df['DateTime'].dt.hour <= end_hour)]\n",
    "    df['Date'] = pd.to_datetime(df['Date'], utc = True)\n",
    "    df['Day Of Week'] = df['Date'].dt.day_name()\n",
    "\n",
    "    weekend = ['Saturday', 'Sunday']\n",
    "    \n",
    "    df = df[(df['Day Of Week'].isin(weekend))]\n",
    "    \n",
    "    return df"
   ]
  },
  {
   "cell_type": "code",
   "execution_count": 129,
   "id": "d357bec9-6e8e-4a1a-acf0-667314805aa3",
   "metadata": {},
   "outputs": [],
   "source": [
    "#Returns a list of 12 dataframes, each containing a months worth of mobility data for the given cell (Row Letter and Row Number)\n",
    "def loadFilteredDataByRowLetterAndNumber(row_letter, row_num):\n",
    "    yearsMobilityData = []\n",
    "    for i in range(1,13):\n",
    "        df = pd.read_csv(start_file_name+\"{:02d}\".format(i)+ mid_file_name + row_letter + str(row_num)+ end_file_name, sep='\\t')\n",
    "        newDf = filter_weekends_by_time(df, 8, 20)\n",
    "        gdf = gpd.GeoDataFrame(newDf, geometry=gpd.points_from_xy(newDf.Lon, newDf.Lat))\n",
    "        yearsMobilityData.append(gdf)\n",
    "    return yearsMobilityData"
   ]
  },
  {
   "cell_type": "code",
   "execution_count": 130,
   "id": "e3618855-2e0b-4e66-b3a9-9254935fc686",
   "metadata": {},
   "outputs": [],
   "source": [
    "#Returns a list of lists, each with 12 months worth of mobility data for the cells listed in the dictionary given {row letter: row num, etc.}\n",
    "def loadFilteredDataByRange(dictionary):\n",
    "    listOfCellsData = []\n",
    "    \n",
    "    for item in dictionary:\n",
    "        for thing in dictionary[item]:\n",
    "            yearsMobileData = loadFilteredDataByRowLetterAndNumber(item, thing)\n",
    "            listOfCellsData.append(yearsMobileData)\n",
    "\n",
    "    return listOfCellsData"
   ]
  },
  {
   "cell_type": "code",
   "execution_count": 164,
   "id": "d6b5e028-aa19-4d72-9e9d-a2209d9a64e7",
   "metadata": {},
   "outputs": [],
   "source": [
    "#Dictionaries to pull by \n",
    "dictionaryOfCells = {\"H\":[13,14], \"G\":[11,12,13,14],\"F\":[11,12,13,14], \"E\":[11,12,13]}\n",
    "secondDictionaryOfCells = {\"H\":[11,12],\"E\":[14]}"
   ]
  },
  {
   "cell_type": "code",
   "execution_count": null,
   "id": "110cdb88-9bf2-4c13-952c-2f3934b0697f",
   "metadata": {},
   "outputs": [],
   "source": [
    "#Running the functions\n",
    "#listOfFoodDesertCellsFilteredMobilityData = loadFilteredDataByRange(dictionaryOfCells)\n",
    "#SecondListOfFoodDesertCellsFilteredMobilityData = loadFilteredDataByRange(secondDictionaryOfCells)"
   ]
  },
  {
   "cell_type": "code",
   "execution_count": 169,
   "id": "aff13855-aa12-4598-a8b5-00172dce41a5",
   "metadata": {},
   "outputs": [],
   "source": [
    "#Saving csv files of the filtered mobility data iteratively using list of cell names and list of lists of mobility data\n",
    "def saveFilteredData(ListCells, ListData):\n",
    "    i = 0\n",
    "    for item in ListCells:\n",
    "        for k in range (0,12):\n",
    "                ListData[i][k].to_csv(item+\"month\"+str(k+1)+\"filteredMobilityData.csv\")\n",
    "        i=i+1\n",
    "        "
   ]
  },
  {
   "cell_type": "code",
   "execution_count": null,
   "id": "62ffcafa-40d7-45f9-8997-e09524f930b1",
   "metadata": {},
   "outputs": [],
   "source": [
    "#Lists to save by\n",
    "listOfCells = ['H13','H14','G11','G12','G13','G14','F11','F12','F13','F14','E11','E12','E13']\n",
    "secondListOfCells = ['H11','H12','E14']"
   ]
  },
  {
   "cell_type": "code",
   "execution_count": 162,
   "id": "595b4221-1b8e-4c04-9c3e-4febe44c7b42",
   "metadata": {},
   "outputs": [],
   "source": [
    "#Running the functions\n",
    "#saveFilteredData(listOfCells, listOfFoodDesertCellsFilteredMobilityData)\n",
    "#saveFilteredData(secondListOfCells, SecondListOfFoodDesertCellsFilteredMobilityData)"
   ]
  }
 ],
 "metadata": {
  "kernelspec": {
   "display_name": "Python 3 (ipykernel)",
   "language": "python",
   "name": "python3"
  },
  "language_info": {
   "codemirror_mode": {
    "name": "ipython",
    "version": 3
   },
   "file_extension": ".py",
   "mimetype": "text/x-python",
   "name": "python",
   "nbconvert_exporter": "python",
   "pygments_lexer": "ipython3",
   "version": "3.11.0rc1"
  }
 },
 "nbformat": 4,
 "nbformat_minor": 5
}
