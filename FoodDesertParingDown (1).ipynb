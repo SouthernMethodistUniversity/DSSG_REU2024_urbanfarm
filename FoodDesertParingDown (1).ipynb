{
 "cells": [
  {
   "cell_type": "code",
   "execution_count": 4,
   "id": "24fa3835-ff8b-4da2-8ce3-68e9bd0cde92",
   "metadata": {},
   "outputs": [
    {
     "data": {
      "text/plain": [
       "'\\n# Plot the data\\nfig, ax = plt.subplots(figsize=(10, 10))\\ngdf.plot(ax=ax, markersize=5, color=\\'blue\\', alpha=0.5)\\nplt.title(\"Geospatial Plot of Latitude and Longitude Data\")\\nplt.xlabel(\"Longitude\")\\nplt.ylabel(\"Latitude\")\\nplt.show()\\n'"
      ]
     },
     "execution_count": 4,
     "metadata": {},
     "output_type": "execute_result"
    }
   ],
   "source": [
    "import geopandas as gpd\n",
    "import pandas as pd\n",
    "import contextily as cx\n",
    "import collections\n",
    "import matplotlib.pyplot as plt\n",
    "\n",
    "df = pd.read_csv(\"/work/group/oit_research_data/mobility/data/data_DFW_2021/data/DFW_2021_03/G14_DFW_output.tsv\", sep='\\t')\n",
    "gdf = gpd.GeoDataFrame(df, geometry=gpd.points_from_xy(df.Lon, df.Lat))\n",
    "\n",
    "\n",
    "\"\"\"\n",
    "Goal: Get a list of people living in food deserts based on home data\n",
    "\n",
    "1) Find people found \"living\" in spatial cell for 6+ months\n",
    "2) Exclude people not living in food deserts (Clip by food desert areas)\n",
    "3) Export final list of remaining Device IDs\n",
    "\n",
    "\"\"\""
   ]
  },
  {
   "cell_type": "code",
   "execution_count": 5,
   "id": "3212d3f3-ed0f-47d0-b430-4a2e46f924d4",
   "metadata": {},
   "outputs": [],
   "source": [
    "#Creating list of dataframes with monthly data in selected cell\n",
    "def row_map(row_letter, row_num, starting_month, ending_month):\n",
    "    listOfdataframes = []\n",
    "    for i in range(starting_month,ending_month+1):\n",
    "        df = pd.read_csv(\"/work/group/oit_research_data/mobility/data/data_DFW_2021/data/DFW_2021_\"+\"{:02d}\".format(i)+\"/\" + row_letter + str(row_num)+ \"_DFW_output.tsv\", sep='\\t')\n",
    "        gdf = gpd.GeoDataFrame(df, geometry=gpd.points_from_xy(df.Lon, df.Lat))\n",
    "        listOfdataframes.append(gdf)\n",
    "    return listOfdataframes"
   ]
  },
  {
   "cell_type": "code",
   "execution_count": 6,
   "id": "8fe99bd0-4a88-4fba-9a67-909bc63b953f",
   "metadata": {},
   "outputs": [],
   "source": [
    "#Pulling data manually\n",
    "H13months = row_map(\"H\", 13, 1, 12)\n",
    "H14months = row_map(\"H\", 14, 1, 12)\n",
    "\n",
    "G11months = row_map(\"G\", 11, 1, 12)\n",
    "G12months = row_map(\"G\", 12, 1, 12)\n",
    "G13months = row_map(\"G\", 13, 1, 12)\n",
    "G14months = row_map(\"G\", 14, 1, 12)\n",
    "\n",
    "\n",
    "F11months = row_map(\"F\", 11, 1, 12)\n",
    "F12months = row_map(\"F\", 12, 1, 12)\n",
    "F13months = row_map(\"F\", 13, 1, 12)\n",
    "F14months = row_map(\"F\", 14, 1, 12)\n",
    "\n",
    "E11months = row_map(\"E\", 11, 1, 12)\n",
    "E12months = row_map(\"E\", 12, 1, 12)\n",
    "E13months = row_map(\"E\", 13, 1, 12)\n"
   ]
  },
  {
   "cell_type": "code",
   "execution_count": 7,
   "id": "0fa591de-22d1-43b9-a95f-7ff6444d9175",
   "metadata": {},
   "outputs": [],
   "source": [
    "#Determining how many months a unique device ID shows up in a spatial cell of data and keeping folks in 6+ months\n",
    "def IDcounter(cellList):\n",
    "    listOfIDs = []\n",
    "    for item in cellList:\n",
    "        listOfIDs = listOfIDs + list(item['Device_ID'])\n",
    "    \n",
    "    counter = collections.Counter(listOfIDs).items()\n",
    "    \n",
    "    finalCounter = {}\n",
    "    \n",
    "    peopleUnder6months= 0\n",
    "    peopleOver6months = 0\n",
    "    \n",
    "    for item in counter:\n",
    "        if item[1]>2:\n",
    "            finalCounter[item[0]] = item[1]\n",
    "            peopleOver6months = peopleOver6months +1\n",
    "        else:\n",
    "            peopleUnder6months = peopleUnder6months+1\n",
    "    print(peopleOver6months)        \n",
    "    print(peopleUnder6months)\n",
    "    print(\"\")\n",
    "    \n",
    "    return finalCounter"
   ]
  },
  {
   "cell_type": "code",
   "execution_count": null,
   "id": "b398fcd7-bd8b-447d-9ea1-85c4783050c3",
   "metadata": {},
   "outputs": [],
   "source": [
    "#Dictionary of spatial cells reviewed\n",
    "dictionaryOfCells = {\"H\":[13,14], \"G\":[11,12,13,14],\"F\":[11,12,13,14], \"E\":[11,12,13]}"
   ]
  },
  {
   "cell_type": "code",
   "execution_count": 8,
   "id": "5c87fb36-90dd-4ebf-bcef-b54d73be2580",
   "metadata": {},
   "outputs": [
    {
     "name": "stdout",
     "output_type": "stream",
     "text": [
      "9762\n",
      "11089\n",
      "\n",
      "9031\n",
      "7784\n",
      "\n",
      "5392\n",
      "5538\n",
      "\n",
      "6442\n",
      "8871\n",
      "\n",
      "6407\n",
      "7671\n",
      "\n",
      "9034\n",
      "9166\n",
      "\n",
      "4178\n",
      "4622\n",
      "\n",
      "6058\n",
      "7707\n",
      "\n",
      "2937\n",
      "4334\n",
      "\n",
      "5915\n",
      "5976\n",
      "\n",
      "4998\n",
      "4598\n",
      "\n",
      "4681\n",
      "5651\n",
      "\n",
      "1556\n",
      "1949\n",
      "\n"
     ]
    }
   ],
   "source": [
    "#Manually creating ID counts\n",
    "H13counter = IDcounter(H13months)\n",
    "H14counter = IDcounter(H14months)\n",
    "\n",
    "G11counter = IDcounter(G11months)\n",
    "G12counter = IDcounter(G12months)\n",
    "G13counter = IDcounter(G13months)\n",
    "G14counter = IDcounter(G14months)\n",
    "\n",
    "F11counter = IDcounter(F11months)\n",
    "F12counter = IDcounter(F12months)\n",
    "F13counter = IDcounter(F13months)\n",
    "F14counter = IDcounter(F14months)\n",
    "\n",
    "E11counter = IDcounter(E11months)\n",
    "E12counter = IDcounter(E12months)\n",
    "E13counter = IDcounter(E13months)\n",
    "\n"
   ]
  },
  {
   "cell_type": "code",
   "execution_count": 9,
   "id": "38aa60b5-8539-454c-9f5f-78968999be6d",
   "metadata": {},
   "outputs": [],
   "source": [
    "\n",
    "def dataframeFromCounter(counter):\n",
    "    Mydict = {}\n",
    "    \n",
    "    Mydict['Device_ID'] = counter.keys()\n",
    "    Mydict['Num Months in Data'] = counter.values()\n",
    "    \n",
    "    return pd.DataFrame.from_dict(Mydict)\n",
    "\n",
    "#Creating dataframe with location data for selected IDs\n",
    "def locationDataFrameByMonth(dataframe, row_letter, row_num, month):\n",
    "    leftDf = dataframe\n",
    "    rightDf = pd.read_csv(\"/work/group/oit_research_data/mobility/data/data_DFW_2021/data/DFW_2021_\"+\"{:02d}\".format(month)+\"/\" + row_letter + str(row_num)+ \"_DFW_output.tsv\", sep='\\t')\n",
    "    mergedDf = pd.merge(leftDf, rightDf, left_on = 'Device_ID', right_on = 'Device_ID', how='inner')\n",
    "    return(mergedDf)\n",
    "\n"
   ]
  },
  {
   "cell_type": "code",
   "execution_count": 10,
   "id": "d0b8523f-a7a3-4cd5-9f3f-3b8e92e88f7b",
   "metadata": {},
   "outputs": [],
   "source": [
    "#Creating geodataframes manually\n",
    "H13AprilDataFrame = locationDataFrameByMonth(dataframeFromCounter(H13counter), \"H\", 13, 4)\n",
    "H13AprilGeoDataFrame = gpd.GeoDataFrame(H13AprilDataFrame, geometry=gpd.points_from_xy(H13AprilDataFrame.Lon, H13AprilDataFrame.Lat))\n",
    "H13AprilGeoDataFrame.crs = 4269 \n",
    "\n",
    "H14AprilDataFrame = locationDataFrameByMonth(dataframeFromCounter(H14counter), \"H\", 14, 4)\n",
    "H14AprilGeoDataFrame = gpd.GeoDataFrame(H14AprilDataFrame, geometry=gpd.points_from_xy(H14AprilDataFrame.Lon, H14AprilDataFrame.Lat))\n",
    "H14AprilGeoDataFrame.crs = 4269\n",
    "\n",
    "G11AprilDataFrame = locationDataFrameByMonth(dataframeFromCounter(G11counter), \"G\", 11, 4)\n",
    "G11AprilGeoDataFrame = gpd.GeoDataFrame(G11AprilDataFrame, geometry=gpd.points_from_xy(G11AprilDataFrame.Lon, G11AprilDataFrame.Lat))\n",
    "G11AprilGeoDataFrame.crs = 4269\n",
    "\n",
    "G12AprilDataFrame = locationDataFrameByMonth(dataframeFromCounter(G12counter), \"G\", 12, 4)\n",
    "G12AprilGeoDataFrame = gpd.GeoDataFrame(G12AprilDataFrame, geometry=gpd.points_from_xy(G12AprilDataFrame.Lon, G12AprilDataFrame.Lat))\n",
    "G12AprilGeoDataFrame.crs = 4269\n",
    "\n",
    "G13AprilDataFrame = locationDataFrameByMonth(dataframeFromCounter(G13counter), \"G\", 13, 4)\n",
    "G13AprilGeoDataFrame = gpd.GeoDataFrame(G13AprilDataFrame, geometry=gpd.points_from_xy(G13AprilDataFrame.Lon, G13AprilDataFrame.Lat))\n",
    "G13AprilGeoDataFrame.crs = 4269\n",
    "\n",
    "G14AprilDataFrame = locationDataFrameByMonth(dataframeFromCounter(G14counter), \"G\", 14, 4)\n",
    "G14AprilGeoDataFrame = gpd.GeoDataFrame(G14AprilDataFrame, geometry=gpd.points_from_xy(G14AprilDataFrame.Lon, G14AprilDataFrame.Lat))\n",
    "G14AprilGeoDataFrame.crs = 4269\n",
    "\n",
    "F11AprilDataFrame = locationDataFrameByMonth(dataframeFromCounter(F11counter), \"F\", 11, 4)\n",
    "F11AprilGeoDataFrame = gpd.GeoDataFrame(F11AprilDataFrame, geometry=gpd.points_from_xy(F11AprilDataFrame.Lon, F11AprilDataFrame.Lat))\n",
    "F11AprilGeoDataFrame.crs = 4269\n",
    "\n",
    "F12AprilDataFrame = locationDataFrameByMonth(dataframeFromCounter(F12counter), \"F\", 12, 4)\n",
    "F12AprilGeoDataFrame = gpd.GeoDataFrame(F12AprilDataFrame, geometry=gpd.points_from_xy(F12AprilDataFrame.Lon, F12AprilDataFrame.Lat))\n",
    "F12AprilGeoDataFrame.crs = 4269\n",
    "\n",
    "F13AprilDataFrame = locationDataFrameByMonth(dataframeFromCounter(F13counter), \"F\", 13, 4)\n",
    "F13AprilGeoDataFrame = gpd.GeoDataFrame(F13AprilDataFrame, geometry=gpd.points_from_xy(F13AprilDataFrame.Lon, F13AprilDataFrame.Lat))\n",
    "F13AprilGeoDataFrame.crs = 4269\n",
    "\n",
    "F14AprilDataFrame = locationDataFrameByMonth(dataframeFromCounter(F14counter), \"F\", 14, 4)\n",
    "F14AprilGeoDataFrame = gpd.GeoDataFrame(F14AprilDataFrame, geometry=gpd.points_from_xy(F14AprilDataFrame.Lon, F14AprilDataFrame.Lat))\n",
    "F14AprilGeoDataFrame.crs = 4269\n",
    "\n",
    "E11AprilDataFrame = locationDataFrameByMonth(dataframeFromCounter(E11counter), \"E\", 11, 4)\n",
    "E11AprilGeoDataFrame = gpd.GeoDataFrame(E11AprilDataFrame, geometry=gpd.points_from_xy(E11AprilDataFrame.Lon, E11AprilDataFrame.Lat))\n",
    "E11AprilGeoDataFrame.crs = 4269\n",
    "\n",
    "E12AprilDataFrame = locationDataFrameByMonth(dataframeFromCounter(E12counter), \"E\", 12, 4)\n",
    "E12AprilGeoDataFrame = gpd.GeoDataFrame(E12AprilDataFrame, geometry=gpd.points_from_xy(E12AprilDataFrame.Lon, E12AprilDataFrame.Lat))\n",
    "E12AprilGeoDataFrame.crs = 4269\n",
    "\n",
    "E13AprilDataFrame = locationDataFrameByMonth(dataframeFromCounter(E13counter), \"E\", 13, 4)\n",
    "E13AprilGeoDataFrame = gpd.GeoDataFrame(E13AprilDataFrame, geometry=gpd.points_from_xy(E13AprilDataFrame.Lon, E13AprilDataFrame.Lat))\n",
    "E13AprilGeoDataFrame.crs = 4269\n"
   ]
  },
  {
   "cell_type": "code",
   "execution_count": 13,
   "id": "e4e9595b-8313-4026-acc2-76d77e5e9b1e",
   "metadata": {},
   "outputs": [
    {
     "data": {
      "text/plain": [
       "<Axes: >"
      ]
     },
     "execution_count": 13,
     "metadata": {},
     "output_type": "execute_result"
    },
    {
     "data": {
      "image/png": "[encoded data removed]",
      "text/plain": [
       "<Figure size 640x480 with 1 Axes>"
      ]
     },
     "metadata": {},
     "output_type": "display_data"
    }
   ],
   "source": [
    "#Loading in food desert polygons to clip by\n",
    "foodDesertsPolygon = gpd.read_file('FARA_Dallas_Food_Desert_Multipolygon.shp')\n",
    "foodDesertsPolygon.plot()\n"
   ]
  },
  {
   "cell_type": "code",
   "execution_count": 14,
   "id": "7fcd9b4d-621c-4efd-8668-0b2138c0c040",
   "metadata": {},
   "outputs": [],
   "source": [
    "AprilGeoDataFrameList = [H13AprilGeoDataFrame, H14AprilGeoDataFrame, G11AprilGeoDataFrame, G12AprilGeoDataFrame,\n",
    "                        G13AprilGeoDataFrame, G14AprilGeoDataFrame, F11AprilGeoDataFrame, F12AprilGeoDataFrame,\n",
    "                        F13AprilGeoDataFrame, F14AprilGeoDataFrame, E11AprilGeoDataFrame, E12AprilGeoDataFrame,\n",
    "                        E13AprilGeoDataFrame]"
   ]
  },
  {
   "cell_type": "code",
   "execution_count": 16,
   "id": "e71dad35-920e-47e2-9bf9-41cc0c293738",
   "metadata": {},
   "outputs": [
    {
     "name": "stdout",
     "output_type": "stream",
     "text": [
      "4952\n",
      "4903\n",
      "2806\n",
      "3451\n",
      "3413\n",
      "4626\n",
      "2071\n",
      "2712\n",
      "1221\n",
      "2824\n",
      "2709\n",
      "2196\n",
      "745\n"
     ]
    }
   ],
   "source": [
    "FoodDesertAprilGeoDataFrameList = []\n",
    "\n",
    "#Getting home data clipped by food desert polygons (we only want users who live in food deserts)\n",
    "for item in AprilGeoDataFrameList:\n",
    "    print(len(item['Device_ID']))\n",
    "    clippedAprilLocations = gpd.clip(item, foodDesertsPolygon)\n",
    "    FoodDesertAprilGeoDataFrameList.append(clippedAprilLocations)\n"
   ]
  },
  {
   "cell_type": "code",
   "execution_count": 101,
   "id": "4803013d-cb8f-4566-b656-11961f7d9743",
   "metadata": {},
   "outputs": [
    {
     "name": "stderr",
     "output_type": "stream",
     "text": [
      "/tmp/ipykernel_644215/4233121464.py:1: UserWarning: Column names longer than 10 characters will be truncated when saved to ESRI Shapefile.\n",
      "  FoodDesertAprilGeoDataFrameList[5].to_file('G14_Food_Deserts.shp')\n"
     ]
    }
   ],
   "source": [
    "#FoodDesertAprilGeoDataFrameList[5].to_file('G14_Food_Deserts.shp')"
   ]
  },
  {
   "cell_type": "code",
   "execution_count": 17,
   "id": "7430e545-df45-4b21-a4b4-5c942504117a",
   "metadata": {},
   "outputs": [
    {
     "name": "stdout",
     "output_type": "stream",
     "text": [
      "198\n",
      "97\n",
      "294\n",
      "403\n",
      "441\n",
      "726\n",
      "226\n",
      "677\n",
      "573\n",
      "395\n",
      "128\n",
      "553\n",
      "241\n"
     ]
    }
   ],
   "source": [
    "final_Device_ID_List = []\n",
    "\n",
    "for item in FoodDesertAprilGeoDataFrameList:\n",
    "    print(len(list(item['Device_ID'])))\n",
    "    final_Device_ID_List = final_Device_ID_List + list(item['Device_ID'])\n"
   ]
  },
  {
   "cell_type": "code",
   "execution_count": 21,
   "id": "b5e1197b-74ac-4fc3-82c6-435e50ffc396",
   "metadata": {},
   "outputs": [],
   "source": [
    "#Making the final list of people living in food deserts we want mobility data for\n",
    "final_Device_ID_List = list(pd.Series(final_Device_ID_List).unique())"
   ]
  },
  {
   "cell_type": "code",
   "execution_count": 28,
   "id": "156b7c9e-db5c-46c8-97b1-c4e0e7b2dbdb",
   "metadata": {},
   "outputs": [],
   "source": [
    "#Number of people after 3month threshold\n",
    "#Making list into dataframe\n",
    "mydict = {'Device_ID': final_Device_ID_List}\n",
    "df = pd.DataFrame.from_dict(mydict)\n"
   ]
  },
  {
   "cell_type": "code",
   "execution_count": 27,
   "id": "310726dd-81b2-46e5-84cf-c39c6750dbe6",
   "metadata": {},
   "outputs": [
    {
     "data": {
      "text/html": [
       "<div>\n",
       "<style scoped>\n",
       "    .dataframe tbody tr th:only-of-type {\n",
       "        vertical-align: middle;\n",
       "    }\n",
       "\n",
       "    .dataframe tbody tr th {\n",
       "        vertical-align: top;\n",
       "    }\n",
       "\n",
       "    .dataframe thead th {\n",
       "        text-align: right;\n",
       "    }\n",
       "</style>\n",
       "<table border=\"1\" class=\"dataframe\">\n",
       "  <thead>\n",
       "    <tr style=\"text-align: right;\">\n",
       "      <th></th>\n",
       "      <th>Device_ID</th>\n",
       "    </tr>\n",
       "  </thead>\n",
       "  <tbody>\n",
       "    <tr>\n",
       "      <th>0</th>\n",
       "      <td>8cf2d305f7f2612375fbcbea82b94447db322018</td>\n",
       "    </tr>\n",
       "    <tr>\n",
       "      <th>1</th>\n",
       "      <td>9f8d0529bce65c11249a4789ea43aaf8b26f3926</td>\n",
       "    </tr>\n",
       "    <tr>\n",
       "      <th>2</th>\n",
       "      <td>7a90e07cb117246405033dbb4004c9c176a4829b</td>\n",
       "    </tr>\n",
       "    <tr>\n",
       "      <th>3</th>\n",
       "      <td>a33cf4f99006a54d96100c7c519a0fb1703279c7</td>\n",
       "    </tr>\n",
       "    <tr>\n",
       "      <th>4</th>\n",
       "      <td>47ff52a16da2fa349e9c6da9c8dc83287a415fcc</td>\n",
       "    </tr>\n",
       "    <tr>\n",
       "      <th>...</th>\n",
       "      <td>...</td>\n",
       "    </tr>\n",
       "    <tr>\n",
       "      <th>4514</th>\n",
       "      <td>feba16676cd382a43f4557ac4dad78fc32e6b06d</td>\n",
       "    </tr>\n",
       "    <tr>\n",
       "      <th>4515</th>\n",
       "      <td>f4967c92eea12233bf9f4fcc4b6097db7ef17206</td>\n",
       "    </tr>\n",
       "    <tr>\n",
       "      <th>4516</th>\n",
       "      <td>5391bed9d223b18a1ef316e2d0f9b0526b6ddf53</td>\n",
       "    </tr>\n",
       "    <tr>\n",
       "      <th>4517</th>\n",
       "      <td>cdf47f488ea0ac2221dea0e9539a18e3c121ccbb</td>\n",
       "    </tr>\n",
       "    <tr>\n",
       "      <th>4518</th>\n",
       "      <td>bdbf0b8f5a1bd7a8319b3dbf49132ba811f89eb5</td>\n",
       "    </tr>\n",
       "  </tbody>\n",
       "</table>\n",
       "<p>4519 rows × 1 columns</p>\n",
       "</div>"
      ],
      "text/plain": [
       "                                     Device_ID\n",
       "0     8cf2d305f7f2612375fbcbea82b94447db322018\n",
       "1     9f8d0529bce65c11249a4789ea43aaf8b26f3926\n",
       "2     7a90e07cb117246405033dbb4004c9c176a4829b\n",
       "3     a33cf4f99006a54d96100c7c519a0fb1703279c7\n",
       "4     47ff52a16da2fa349e9c6da9c8dc83287a415fcc\n",
       "...                                        ...\n",
       "4514  feba16676cd382a43f4557ac4dad78fc32e6b06d\n",
       "4515  f4967c92eea12233bf9f4fcc4b6097db7ef17206\n",
       "4516  5391bed9d223b18a1ef316e2d0f9b0526b6ddf53\n",
       "4517  cdf47f488ea0ac2221dea0e9539a18e3c121ccbb\n",
       "4518  bdbf0b8f5a1bd7a8319b3dbf49132ba811f89eb5\n",
       "\n",
       "[4519 rows x 1 columns]"
      ]
     },
     "execution_count": 27,
     "metadata": {},
     "output_type": "execute_result"
    }
   ],
   "source": [
    "#Saving it as txt file (exporting it)\n",
    "df.to_csv('finalListOfDeviceIDsAtThreeMonthThreshold.txt', sep='\\t', index=False)"
   ]
  }
 ],
 "metadata": {
  "kernelspec": {
   "display_name": "Python 3 (ipykernel)",
   "language": "python",
   "name": "python3"
  },
  "language_info": {
   "codemirror_mode": {
    "name": "ipython",
    "version": 3
   },
   "file_extension": ".py",
   "mimetype": "text/x-python",
   "name": "python",
   "nbconvert_exporter": "python",
   "pygments_lexer": "ipython3",
   "version": "3.11.0rc1"
  }
 },
 "nbformat": 4,
 "nbformat_minor": 5
}
