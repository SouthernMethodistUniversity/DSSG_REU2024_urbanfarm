{
 "cells": [
  {
   "cell_type": "code",
   "execution_count": 1,
   "id": "7ae101c9-a2ac-41a8-bc1d-4f7b63d2edac",
   "metadata": {},
   "outputs": [],
   "source": [
    "import os\n",
    "import pandas as pd\n",
    "import dask.dataframe as dd\n",
    "import glob\n",
    "import numpy as np\n",
    "\n",
    "pd.options.mode.chained_assignment = None  # default='warn'"
   ]
  },
  {
   "cell_type": "code",
   "execution_count": 2,
   "id": "5362c9d6-4365-48de-877d-460ea0e111c4",
   "metadata": {},
   "outputs": [],
   "source": [
    "dir_path = \"/work/group/oit_research_data/mobility/data/data_DFW_2021/data/DFW_2021_01/\"\n",
    "file_name = \"G14_DFW\"\n",
    "ext = \".tsv\"\n",
    "file_path = dir_path+file_name+ext"
   ]
  },
  {
   "cell_type": "code",
   "execution_count": 3,
   "id": "25dd7904-1017-4f9d-9be5-cc857683c6f7",
   "metadata": {},
   "outputs": [],
   "source": [
    "# Function to convert Unix timestamps to seconds (if not already in seconds)\n",
    "def convert_timestamp_to_dt(ddf, tz='US/Central'):        \n",
    "    ddf['DateTime'] = dd.to_datetime(ddf['Unix Timestamp'],unit='s')    \n",
    "    #ddf['DateTime'] = ddf[\"DateTime\"].round(\"H\")\n",
    "    ddf.DateTime = ddf.DateTime.dt.tz_localize('UTC').dt.tz_convert(tz)  \n",
    "    #ddf['DateTime']=ddf['DateTime'].astype(str)\n",
    "    #ddf.DateTime = ddf.DateTime.str.slice(stop=-6)\n",
    "    ddf['Date'] = ddf.DateTime.dt.date\n",
    "    return ddf"
   ]
  },
  {
   "cell_type": "code",
   "execution_count": 4,
   "id": "7267efc2-5ce3-49d8-bfe8-92301c4ec821",
   "metadata": {},
   "outputs": [],
   "source": [
    "# Read the large TSV file in chunks using Dask\n",
    "columns=[\"Polygon_ID\",\"Device_ID\",\"Lat\",\"Lon\",\"Unix Timestamp\"]\n",
    "df = dd.read_csv(file_path, sep='\\t', names=columns, header=None,\n",
    "                 dtype={\"Polygon_ID\":'object',\"Device_ID\":'object',\"Lat\":'float64',\"Lon\":'float64',\"Unix Timestamp\":'object'}).compute()"
   ]
  },
  {
   "cell_type": "code",
   "execution_count": 5,
   "id": "4f5f851c-00ef-4048-a718-2f40f2a7c6a5",
   "metadata": {},
   "outputs": [
    {
     "data": {
      "text/html": [
       "<div>\n",
       "<style scoped>\n",
       "    .dataframe tbody tr th:only-of-type {\n",
       "        vertical-align: middle;\n",
       "    }\n",
       "\n",
       "    .dataframe tbody tr th {\n",
       "        vertical-align: top;\n",
       "    }\n",
       "\n",
       "    .dataframe thead th {\n",
       "        text-align: right;\n",
       "    }\n",
       "</style>\n",
       "<table border=\"1\" class=\"dataframe\">\n",
       "  <thead>\n",
       "    <tr style=\"text-align: right;\">\n",
       "      <th></th>\n",
       "      <th>Polygon_ID</th>\n",
       "      <th>Device_ID</th>\n",
       "      <th>Lat</th>\n",
       "      <th>Lon</th>\n",
       "      <th>Unix Timestamp</th>\n",
       "    </tr>\n",
       "  </thead>\n",
       "  <tbody>\n",
       "    <tr>\n",
       "      <th>0</th>\n",
       "      <td>R1</td>\n",
       "      <td>d2f5d964b8d12b666f884d7b42221a25ceff6368</td>\n",
       "      <td>32.758560</td>\n",
       "      <td>-96.682709</td>\n",
       "      <td>1609538674</td>\n",
       "    </tr>\n",
       "    <tr>\n",
       "      <th>1</th>\n",
       "      <td>R1</td>\n",
       "      <td>9802ca185b2baca4c1507a9478d9b6e8c6c118bd</td>\n",
       "      <td>32.760974</td>\n",
       "      <td>-96.682835</td>\n",
       "      <td>1609528435</td>\n",
       "    </tr>\n",
       "    <tr>\n",
       "      <th>2</th>\n",
       "      <td>R1</td>\n",
       "      <td>9802ca185b2baca4c1507a9478d9b6e8c6c118bd</td>\n",
       "      <td>32.760656</td>\n",
       "      <td>-96.682824</td>\n",
       "      <td>1609528437</td>\n",
       "    </tr>\n",
       "    <tr>\n",
       "      <th>3</th>\n",
       "      <td>R1</td>\n",
       "      <td>9802ca185b2baca4c1507a9478d9b6e8c6c118bd</td>\n",
       "      <td>32.760334</td>\n",
       "      <td>-96.682831</td>\n",
       "      <td>1609528439</td>\n",
       "    </tr>\n",
       "    <tr>\n",
       "      <th>4</th>\n",
       "      <td>R1</td>\n",
       "      <td>9802ca185b2baca4c1507a9478d9b6e8c6c118bd</td>\n",
       "      <td>32.759992</td>\n",
       "      <td>-96.682836</td>\n",
       "      <td>1609528441</td>\n",
       "    </tr>\n",
       "    <tr>\n",
       "      <th>...</th>\n",
       "      <td>...</td>\n",
       "      <td>...</td>\n",
       "      <td>...</td>\n",
       "      <td>...</td>\n",
       "      <td>...</td>\n",
       "    </tr>\n",
       "    <tr>\n",
       "      <th>836564</th>\n",
       "      <td>B17</td>\n",
       "      <td>103565f39bbbf641f634a6953556d7e4df80f0e8</td>\n",
       "      <td>32.853148</td>\n",
       "      <td>-96.586332</td>\n",
       "      <td>1610322448</td>\n",
       "    </tr>\n",
       "    <tr>\n",
       "      <th>836565</th>\n",
       "      <td>B17</td>\n",
       "      <td>103565f39bbbf641f634a6953556d7e4df80f0e8</td>\n",
       "      <td>32.853148</td>\n",
       "      <td>-96.586332</td>\n",
       "      <td>1610322494</td>\n",
       "    </tr>\n",
       "    <tr>\n",
       "      <th>836566</th>\n",
       "      <td>B17</td>\n",
       "      <td>103565f39bbbf641f634a6953556d7e4df80f0e8</td>\n",
       "      <td>32.853188</td>\n",
       "      <td>-96.586322</td>\n",
       "      <td>1610322539</td>\n",
       "    </tr>\n",
       "    <tr>\n",
       "      <th>836567</th>\n",
       "      <td>B17</td>\n",
       "      <td>103565f39bbbf641f634a6953556d7e4df80f0e8</td>\n",
       "      <td>32.853348</td>\n",
       "      <td>-96.586433</td>\n",
       "      <td>1610322584</td>\n",
       "    </tr>\n",
       "    <tr>\n",
       "      <th>836568</th>\n",
       "      <td>A18</td>\n",
       "      <td>103565f39bbbf641f634a6953556d7e4df80f0e8</td>\n",
       "      <td>32.856612</td>\n",
       "      <td>-96.582055</td>\n",
       "      <td>1610322629</td>\n",
       "    </tr>\n",
       "  </tbody>\n",
       "</table>\n",
       "<p>61888671 rows × 5 columns</p>\n",
       "</div>"
      ],
      "text/plain": [
       "       Polygon_ID                                 Device_ID        Lat  \\\n",
       "0              R1  d2f5d964b8d12b666f884d7b42221a25ceff6368  32.758560   \n",
       "1              R1  9802ca185b2baca4c1507a9478d9b6e8c6c118bd  32.760974   \n",
       "2              R1  9802ca185b2baca4c1507a9478d9b6e8c6c118bd  32.760656   \n",
       "3              R1  9802ca185b2baca4c1507a9478d9b6e8c6c118bd  32.760334   \n",
       "4              R1  9802ca185b2baca4c1507a9478d9b6e8c6c118bd  32.759992   \n",
       "...           ...                                       ...        ...   \n",
       "836564        B17  103565f39bbbf641f634a6953556d7e4df80f0e8  32.853148   \n",
       "836565        B17  103565f39bbbf641f634a6953556d7e4df80f0e8  32.853148   \n",
       "836566        B17  103565f39bbbf641f634a6953556d7e4df80f0e8  32.853188   \n",
       "836567        B17  103565f39bbbf641f634a6953556d7e4df80f0e8  32.853348   \n",
       "836568        A18  103565f39bbbf641f634a6953556d7e4df80f0e8  32.856612   \n",
       "\n",
       "              Lon Unix Timestamp  \n",
       "0      -96.682709     1609538674  \n",
       "1      -96.682835     1609528435  \n",
       "2      -96.682824     1609528437  \n",
       "3      -96.682831     1609528439  \n",
       "4      -96.682836     1609528441  \n",
       "...           ...            ...  \n",
       "836564 -96.586332     1610322448  \n",
       "836565 -96.586332     1610322494  \n",
       "836566 -96.586322     1610322539  \n",
       "836567 -96.586433     1610322584  \n",
       "836568 -96.582055     1610322629  \n",
       "\n",
       "[61888671 rows x 5 columns]"
      ]
     },
     "execution_count": 5,
     "metadata": {},
     "output_type": "execute_result"
    }
   ],
   "source": [
    "df"
   ]
  },
  {
   "cell_type": "code",
   "execution_count": 6,
   "id": "f16c48c6-4cce-45c8-8981-4a4bfb3d0293",
   "metadata": {},
   "outputs": [],
   "source": [
    "ddf = dd.from_pandas(df, npartitions=256)"
   ]
  },
  {
   "cell_type": "code",
   "execution_count": 7,
   "id": "619ede07-5d3d-4318-9894-4f480d4193b8",
   "metadata": {},
   "outputs": [],
   "source": [
    "meta_dict = {\"Polygon_ID\":'object',\"Device_ID\":'object',\"Lat\":'float64',\"Lon\":'float64',\"Unix Timestamp\":'object', 'DateTime':'object','Date':'object'}"
   ]
  },
  {
   "cell_type": "code",
   "execution_count": 8,
   "id": "71d86461-0c72-4b3f-b029-f7db5e78a36b",
   "metadata": {},
   "outputs": [],
   "source": [
    "# Convert Unix timestamps to seconds\n",
    "ddf = ddf.map_partitions(convert_timestamp_to_dt, meta=meta_dict)"
   ]
  },
  {
   "cell_type": "code",
   "execution_count": 9,
   "id": "d1a9b408-bc36-43eb-94f8-8e0b1628f286",
   "metadata": {},
   "outputs": [],
   "source": [
    "ids = pd.read_csv(dir_path+\"../finalListOfDeviceIDsAtThreeMonthThreshold.txt\")"
   ]
  },
  {
   "cell_type": "code",
   "execution_count": 10,
   "id": "c25be060-5f8e-4608-b713-25c97d66cb6c",
   "metadata": {},
   "outputs": [],
   "source": [
    "#np.select(df['Device_ID'].isin(ids),df['Device_ID'])"
   ]
  },
  {
   "cell_type": "code",
   "execution_count": 11,
   "id": "7b8f734b-b2c5-462c-bdf3-c7cc843ed17b",
   "metadata": {},
   "outputs": [],
   "source": [
    "mob = ddf[ddf.Device_ID.isin(ids.Device_ID)].compute()"
   ]
  },
  {
   "cell_type": "code",
   "execution_count": 13,
   "id": "84efe0e9-444c-472b-aa6e-cc2a0c418411",
   "metadata": {},
   "outputs": [],
   "source": [
    "mob.to_csv(file_name+'_output.tsv', sep='\\t', index=False)"
   ]
  },
  {
   "cell_type": "code",
   "execution_count": null,
   "id": "13e18b4c-7bfb-43a4-a286-22f2f75dc8d2",
   "metadata": {},
   "outputs": [],
   "source": []
  }
 ],
 "metadata": {
  "kernelspec": {
   "display_name": "Python 3 (ipykernel)",
   "language": "python",
   "name": "python3"
  },
  "language_info": {
   "codemirror_mode": {
    "name": "ipython",
    "version": 3
   },
   "file_extension": ".py",
   "mimetype": "text/x-python",
   "name": "python",
   "nbconvert_exporter": "python",
   "pygments_lexer": "ipython3",
   "version": "3.9.12"
  }
 },
 "nbformat": 4,
 "nbformat_minor": 5
}
